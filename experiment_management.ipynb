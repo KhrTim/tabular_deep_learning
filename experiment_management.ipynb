{
 "cells": [
  {
   "cell_type": "code",
   "execution_count": 1,
   "id": "7349b534",
   "metadata": {},
   "outputs": [],
   "source": [
    "from mlflow import MlflowClient"
   ]
  },
  {
   "cell_type": "code",
   "execution_count": 2,
   "id": "21fd9bc4",
   "metadata": {},
   "outputs": [],
   "source": [
    "client = MlflowClient()"
   ]
  },
  {
   "cell_type": "code",
   "execution_count": null,
   "id": "80730bad",
   "metadata": {},
   "outputs": [],
   "source": [
    "# ds_list = [\n",
    "#     \"default_of_credit_card_clients\",\n",
    "#     \"philippine\",\n",
    "#     \"INNHotelsGroup\",\n",
    "#     \"taiwanese_bankruptcy_prediction\",\n",
    "#     \"naticusdroid+android+permissions+dataset\",\n",
    "#   ]\n"
   ]
  },
  {
   "cell_type": "code",
   "execution_count": null,
   "id": "b68500db",
   "metadata": {},
   "outputs": [],
   "source": [
    "# for i in client.search_experiments():\n",
    "#     if any(map(lambda x: i.name.startswith(x), ds_list)):\n",
    "#         client.delete_experiment(i.experiment_id)"
   ]
  }
 ],
 "metadata": {
  "kernelspec": {
   "display_name": "talent",
   "language": "python",
   "name": "python3"
  },
  "language_info": {
   "codemirror_mode": {
    "name": "ipython",
    "version": 3
   },
   "file_extension": ".py",
   "mimetype": "text/x-python",
   "name": "python",
   "nbconvert_exporter": "python",
   "pygments_lexer": "ipython3",
   "version": "3.10.18"
  }
 },
 "nbformat": 4,
 "nbformat_minor": 5
}
