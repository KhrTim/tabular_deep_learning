{
 "cells": [
  {
   "cell_type": "code",
   "execution_count": 1,
   "id": "a6a22d62",
   "metadata": {},
   "outputs": [],
   "source": [
    "def split_list(lst, n):\n",
    "    k, m = divmod(len(lst), n)\n",
    "    return [lst[i*k + min(i, m):(i+1)*k + min(i+1, m)] for i in range(n)]\n"
   ]
  },
  {
   "cell_type": "code",
   "execution_count": 7,
   "id": "77547de3",
   "metadata": {},
   "outputs": [
    {
     "data": {
      "text/plain": [
       "[[1, 2, 3], [4, 5, 6], [7, 8]]"
      ]
     },
     "execution_count": 7,
     "metadata": {},
     "output_type": "execute_result"
    }
   ],
   "source": [
    "split_list([1,2,3,4,5,6,7,8], 3)"
   ]
  }
 ],
 "metadata": {
  "kernelspec": {
   "display_name": "talent",
   "language": "python",
   "name": "python3"
  },
  "language_info": {
   "codemirror_mode": {
    "name": "ipython",
    "version": 3
   },
   "file_extension": ".py",
   "mimetype": "text/x-python",
   "name": "python",
   "nbconvert_exporter": "python",
   "pygments_lexer": "ipython3",
   "version": "3.10.18"
  }
 },
 "nbformat": 4,
 "nbformat_minor": 5
}
